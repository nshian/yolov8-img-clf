{
 "cells": [
  {
   "cell_type": "code",
   "execution_count": 7,
   "metadata": {},
   "outputs": [
    {
     "name": "stdout",
     "output_type": "stream",
     "text": [
      "\n",
      "image 1/1 c:\\Users\\ianng\\OneDrive\\Desktop\\data-science-projects\\yolov8\\yolov8-img-clf\\data\\val\\shine\\shine190.jpg: 64x64 shine 0.99, sunrise 0.01, cloudy 0.00, rain 0.00, 4.0ms\n",
      "Speed: 2.0ms preprocess, 4.0ms inference, 0.0ms postprocess per image at shape (1, 3, 64, 64)\n"
     ]
    }
   ],
   "source": [
    "from ultralytics import YOLO\n",
    "\n",
    "# Load model\n",
    "model = YOLO('./runs/classify/train/weights/best.pt')\n",
    "\n",
    "# Predict with the model\n",
    "results = model('./data/val/shine/shine190.jpg')"
   ]
  },
  {
   "cell_type": "code",
   "execution_count": 10,
   "metadata": {},
   "outputs": [
    {
     "name": "stdout",
     "output_type": "stream",
     "text": [
      "{0: 'cloudy', 1: 'rain', 2: 'shine', 3: 'sunrise'}\n",
      "ultralytics.engine.results.Probs object with attributes:\n",
      "\n",
      "data: tensor([1.4269e-03, 3.7221e-05, 9.8922e-01, 9.3139e-03])\n",
      "orig_shape: None\n",
      "shape: torch.Size([4])\n",
      "top1: 2\n",
      "top1conf: tensor(0.9892)\n",
      "top5: [2, 3, 0, 1]\n",
      "top5conf: tensor([9.8922e-01, 9.3139e-03, 1.4269e-03, 3.7221e-05])\n",
      "Predicted class: shine\n"
     ]
    }
   ],
   "source": [
    "names_dict = results[0].names\n",
    "probs = results[0].probs\n",
    "print(names_dict)\n",
    "print(probs)\n",
    "print(f\"Predicted class: {names_dict[probs.top1]}\")"
   ]
  },
  {
   "cell_type": "code",
   "execution_count": null,
   "metadata": {},
   "outputs": [],
   "source": []
  }
 ],
 "metadata": {
  "kernelspec": {
   "display_name": ".venv",
   "language": "python",
   "name": "python3"
  },
  "language_info": {
   "codemirror_mode": {
    "name": "ipython",
    "version": 3
   },
   "file_extension": ".py",
   "mimetype": "text/x-python",
   "name": "python",
   "nbconvert_exporter": "python",
   "pygments_lexer": "ipython3",
   "version": "3.11.7"
  }
 },
 "nbformat": 4,
 "nbformat_minor": 2
}
